{
 "cells": [
  {
   "cell_type": "code",
   "execution_count": 89,
   "metadata": {},
   "outputs": [
    {
     "name": "stdout",
     "output_type": "stream",
     "text": [
      "a\n",
      "b\n",
      "c\n"
     ]
    }
   ],
   "source": [
    "l = []\n",
    "l1 = []\n",
    "\n",
    "\n",
    "while True:\n",
    "    palavra = str(input(\"Digite uma palavra: \"))\n",
    "    if palavra == \"\":\n",
    "        break\n",
    "    if palavra not in l:\n",
    "        l.append(palavra)\n",
    "\n",
    "for palavra in l:\n",
    "    print(palavra)\n",
    "\n",
    "\n",
    "\n",
    "    "
   ]
  },
  {
   "cell_type": "code",
   "execution_count": null,
   "metadata": {},
   "outputs": [],
   "source": [
    "temperaturas = [-10, -8, 0, 1, 2, 5, -2, -4]\n",
    "print(max(temperaturas))\n",
    "print(min(temperaturas))\n",
    "print(sum(temperaturas) / len(temperaturas))"
   ]
  },
  {
   "cell_type": "code",
   "execution_count": null,
   "metadata": {},
   "outputs": [],
   "source": [
    "l = []\n",
    "\n",
    "for i in range(10):\n",
    "    n = int(input(\"Digite um numero: \"))\n",
    "    l.append(n)\n",
    "\n",
    "for indice in range(2, len(l)):\n",
    "    if indice[i] > (l[i-1] + l[i-2]):\n",
    "        print(indice)"
   ]
  },
  {
   "cell_type": "code",
   "execution_count": null,
   "metadata": {},
   "outputs": [],
   "source": [
    "num = [1,2,3,4,5]\n",
    "print(num)\n",
    "num.reverse()\n",
    "print(num)\n"
   ]
  },
  {
   "cell_type": "code",
   "execution_count": null,
   "metadata": {},
   "outputs": [],
   "source": [
    "l = []\n",
    "pares = []\n",
    "som_ind_pares = []\n",
    "\n",
    "for i in range(4):\n",
    "    n = int(input(\"Digite um numero: \"))\n",
    "    l.append(n)\n",
    "\n",
    "for elemento in l:\n",
    "    if elemento % 2 == 0:\n",
    "        pares.append(elemento)\n",
    "\n",
    "for i in range(len(l)):\n",
    "    if elemento % 2 == 0:\n",
    "        som_ind_pares += i\n",
    "\n",
    "print(sum(pares))\n",
    "print(som_ind_pares)\n",
    "\n",
    "\n",
    "\n"
   ]
  },
  {
   "cell_type": "code",
   "execution_count": null,
   "metadata": {},
   "outputs": [],
   "source": [
    "l = []\n",
    "\n",
    "for i in range(3):\n",
    "    n = int(input(\"Digite um numero: \"))\n",
    "    l.append(n)\n",
    "\n",
    "maior = max(l)\n",
    "\n",
    "print(maior)\n",
    "print(l.index(maior))"
   ]
  },
  {
   "cell_type": "code",
   "execution_count": null,
   "metadata": {},
   "outputs": [],
   "source": [
    "t = [11,7,2,4]\n",
    "menor = float(\"inf\")\n",
    "\n",
    "for elemento in t:\n",
    "    if elemento < menor:\n",
    "        menor = elemento\n",
    "\n",
    "print(menor)"
   ]
  },
  {
   "cell_type": "code",
   "execution_count": null,
   "metadata": {},
   "outputs": [],
   "source": [
    "t = [11,7,2,4]\n",
    "\n",
    "print(min(t))"
   ]
  },
  {
   "cell_type": "code",
   "execution_count": null,
   "metadata": {},
   "outputs": [],
   "source": [
    "l = []\n",
    "\n",
    "for i in range(5):\n",
    "    n1 = int(input(\"Digite um numero: \"))\n",
    "    l.append(n1)\n",
    "\n",
    "print(l)\n",
    "print(l[0])\n",
    "print(l[-1])"
   ]
  },
  {
   "cell_type": "code",
   "execution_count": null,
   "metadata": {},
   "outputs": [],
   "source": [
    "l = []\n",
    "\n",
    "\n",
    "n1 = int(input(\"Digite um numero: \"))\n",
    "l.append(n1)\n",
    "n2 = int(input(\"Digite um numero: \"))\n",
    "l.append(n2)\n",
    "n3 = int(input(\"Digite um numero: \"))\n",
    "l.append(n3)\n",
    "n4 = int(input(\"Digite um numero: \"))\n",
    "l.append(n4)\n",
    "n5 = int(input(\"Digite um numero: \"))\n",
    "l.append(n5)\n",
    "\n",
    "print(l)\n",
    "print(l[0])\n",
    "print(l[4])"
   ]
  }
 ],
 "metadata": {
  "kernelspec": {
   "display_name": "base",
   "language": "python",
   "name": "python3"
  },
  "language_info": {
   "codemirror_mode": {
    "name": "ipython",
    "version": 3
   },
   "file_extension": ".py",
   "mimetype": "text/x-python",
   "name": "python",
   "nbconvert_exporter": "python",
   "pygments_lexer": "ipython3",
   "version": "3.9.13"
  }
 },
 "nbformat": 4,
 "nbformat_minor": 2
}
