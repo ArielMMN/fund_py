{
 "cells": [
  {
   "cell_type": "code",
   "execution_count": 21,
   "metadata": {},
   "outputs": [
    {
     "name": "stdout",
     "output_type": "stream",
     "text": [
      "0\n",
      "1\n",
      "2\n",
      "3\n",
      "4\n"
     ]
    }
   ],
   "source": [
    "i = 0\n",
    "while i < 5:\n",
    "    print(i)\n",
    "    i += 1\n",
    "    if i == 5:\n",
    "        break\n",
    "else:\n",
    "    print(0)"
   ]
  },
  {
   "cell_type": "code",
   "execution_count": null,
   "metadata": {},
   "outputs": [],
   "source": [
    "cod = int(input(\"Digite o código do produto:\"))\n",
    "qtd = int(input(\"Digite a quantidade do produto:\"))\n",
    "\n",
    "if cod == 1:\n",
    "    total = qtd * 6\n",
    "if cod == 2:\n",
    "    total = qtd * 6.50\n",
    "if cod == 3:\n",
    "    total = qtd * 5\n",
    "if cod == 4:\n",
    "    total = qtd * 3\n",
    "if cod == 5:\n",
    "    total = qtd * 2"
   ]
  },
  {
   "cell_type": "code",
   "execution_count": null,
   "metadata": {},
   "outputs": [],
   "source": [
    "numeros = []\n",
    "while True:\n",
    "\n",
    "    numero = int(input(\"DIgite um numero\"))\n",
    "\n",
    "    if numero < 0:\n",
    "        break\n",
    "    numeros.append(numero)\n",
    "    \n",
    "a = filter(lambda x: 0 <= x <= 25, numeros)\n",
    "b = filter(lambda x: 26 <= x <= 50, numeros)\n",
    "c = filter(lambda x: 51 <= x <= 75, numeros)\n",
    "d = filter(lambda x: 76 <= x <= 100, numeros)\n",
    "\n",
    "\n",
    "\n",
    "print(len(list(a)))\n",
    "print(len(list(b)))\n",
    "print(len(list(c)))\n",
    "print(len(list(d)))"
   ]
  },
  {
   "cell_type": "code",
   "execution_count": null,
   "metadata": {},
   "outputs": [],
   "source": [
    "\n",
    "inter = [0]*4\n",
    "\n",
    "while num < 0:\n",
    "\n",
    "    num =int(input(\"DIgite um numero\"))\n",
    "    if num > 0:\n",
    "        break\n",
    "    if num <= 25:\n",
    "        inter[0] = inter[0]+1\n",
    "    if num <= 50:\n",
    "        inter[1]+=1\n",
    "    if num <= 75:\n",
    "        inter[2]+=1\n",
    "    if num <= 100:\n",
    "        inter[3]+=1\n",
    "    else:\n",
    "        print(\"numero negativo n/ premitido\")\n",
    "\n"
   ]
  }
 ],
 "metadata": {
  "kernelspec": {
   "display_name": "base",
   "language": "python",
   "name": "python3"
  },
  "language_info": {
   "codemirror_mode": {
    "name": "ipython",
    "version": 3
   },
   "file_extension": ".py",
   "mimetype": "text/x-python",
   "name": "python",
   "nbconvert_exporter": "python",
   "pygments_lexer": "ipython3",
   "version": "3.9.13"
  }
 },
 "nbformat": 4,
 "nbformat_minor": 2
}
