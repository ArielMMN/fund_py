{
 "cells": [
  {
   "cell_type": "code",
   "execution_count": null,
   "metadata": {},
   "outputs": [],
   "source": [
    "valor = float(input(\"Digite o valor da compra: \"))\n",
    "parcela = int(input(\"Digite a quantidade de parcelas: \"))\n",
    "\n",
    "if parcela == 1:\n",
    "    desconto = valor * 0.10\n",
    "    \n",
    "elif parcela == 2 or parcela == 3:\n",
    "    desconto = valor * 0.05\n",
    "    \n",
    "if valor > 5000:\n",
    "    desconto1 = valor * 0.05\n",
    "    desconto = desconto + desconto1\n",
    "\n",
    "valor = valor - desconto\n",
    "v_parcela = valor/parcela\n",
    "\n",
    "print(f\"Desconto total: {desconto:.2f}\")\n",
    "\n",
    "print(f\"Valor final da compra com desconto: {valor:.2f}\")\n",
    "\n",
    "print(f\"Cada parcela será de: {v_parcela:.2f}\")"
   ]
  }
 ],
 "metadata": {
  "kernelspec": {
   "display_name": "base",
   "language": "python",
   "name": "python3"
  },
  "language_info": {
   "codemirror_mode": {
    "name": "ipython",
    "version": 3
   },
   "file_extension": ".py",
   "mimetype": "text/x-python",
   "name": "python",
   "nbconvert_exporter": "python",
   "pygments_lexer": "ipython3",
   "version": "3.9.13"
  }
 },
 "nbformat": 4,
 "nbformat_minor": 2
}
