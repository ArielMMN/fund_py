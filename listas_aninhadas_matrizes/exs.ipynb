{
 "cells": [
  {
   "cell_type": "code",
   "execution_count": 1,
   "metadata": {},
   "outputs": [
    {
     "name": "stdout",
     "output_type": "stream",
     "text": [
      "Matriz:\n",
      "[87, 58]\n",
      "[14, 20]\n"
     ]
    }
   ],
   "source": [
    "import random\n",
    "\n",
    "# Criar a matriz 12x12 com números inteiros aleatórios de 0 a 100\n",
    "m = [[random.randint(0, 100) for _ in range(2)] for _ in range(2)]\n",
    "\n",
    "# Mostrar a matriz (opcional)\n",
    "print(\"Matriz:\")\n",
    "for linha in m:\n",
    "    print(linha)\n",
    "\n",
    "# Entrada do usuário: 'S' para soma, 'M' para média\n",
    "operacao = input(\"Digite 'S' para soma ou 'M' para média: \").strip().upper()\n",
    "\n",
    "# Calcular a soma dos elementos abaixo da diagonal principal\n",
    "soma = 0\n",
    "contador = 0\n",
    "for i in range(1, 12):  # linhas\n",
    "    for j in range(i):  # colunas < linha => abaixo da diagonal principal\n",
    "        soma += m[i][j]\n",
    "        contador += 1\n",
    "\n",
    "# Resultado\n",
    "if operacao == 'S':\n",
    "    print(f\"Soma dos elementos abaixo da diagonal principal: {soma}\")\n",
    "elif operacao == 'M':\n",
    "    media = soma / contador\n",
    "    print(f\"Média dos elementos abaixo da diagonal principal: {media:.2f}\")\n",
    "else:\n",
    "    print(\"Operação inválida. Digite apenas 'S' ou 'M'.\")\n"
   ]
  },
  {
   "cell_type": "code",
   "execution_count": 41,
   "metadata": {},
   "outputs": [
    {
     "name": "stdout",
     "output_type": "stream",
     "text": [
      "  8   9   8 \n",
      "  6   6   3 \n",
      "  2   6   2 \n",
      "  3   7   8 \n",
      "  6   1   9 \n",
      "  3   4   4 \n",
      "  2  10   2 \n",
      "  5   1   6 \n",
      "  7  10   0 \n",
      " 10  10   5 \n",
      "aluno 0 | menor nota: 8 | menor Prova 0\n",
      "aluno 1 | menor nota: 3 | menor Prova 2\n",
      "aluno 2 | menor nota: 2 | menor Prova 0\n",
      "aluno 3 | menor nota: 3 | menor Prova 0\n",
      "aluno 4 | menor nota: 1 | menor Prova 1\n",
      "aluno 5 | menor nota: 3 | menor Prova 0\n",
      "aluno 6 | menor nota: 2 | menor Prova 0\n",
      "aluno 7 | menor nota: 1 | menor Prova 1\n",
      "aluno 8 | menor nota: 0 | menor Prova 2\n",
      "aluno 9 | menor nota: 5 | menor Prova 2\n"
     ]
    }
   ],
   "source": [
    "from random import randint\n",
    "m = []\n",
    "for l in range(10):\n",
    "    linha = []\n",
    "    for c in range(3):\n",
    "        linha.append(randint(0, 10))\n",
    "    m.append(linha)\n",
    "\n",
    "for linha in m:\n",
    "    for elemento in linha:\n",
    "        print(f\"{elemento:3d}\", end=\" \")\n",
    "    print()\n",
    "\n",
    "for aluno in range(len(m)):\n",
    "    menor_nota = min(m[aluno])\n",
    "    menor_prova = m[aluno].index(menor_nota)\n",
    "    print(f'aluno {aluno} | menor nota: {menor_nota} | menor Prova {menor_prova}')\n",
    "\n",
    "m2 = []\n",
    "for l in range(3):\n",
    "    linha = []\n",
    "    for c in range(10):\n",
    "        linha.append(m[c][l])\n",
    "    m.append(linha)\n",
    "\n",
    "for prova in m2:\n",
    "    menor_nota = min(prova)\n",
    "    qtd_alunos = prova.count(menor_nota)\n",
    "    print(f'Prova {m2.index(prova)} | Menor nota: {menor_nota} | Alunos: {qtd_alunos}')"
   ]
  },
  {
   "cell_type": "code",
   "execution_count": null,
   "metadata": {},
   "outputs": [],
   "source": []
  },
  {
   "cell_type": "code",
   "execution_count": 34,
   "metadata": {},
   "outputs": [
    {
     "name": "stdout",
     "output_type": "stream",
     "text": [
      "  7   2   6   7   4   9   2   1   9  10   5   5 \n",
      "  4   2  10   3   3   1   9   2   0   2   6   5 \n",
      "  1   9   9   5   6   5   0   5   2   8   0   7 \n",
      "  0   5   6   9   0   7   1   1   8   0   3   5 \n",
      " 10   0   9   8   9   0   5  10   9   8   5   9 \n",
      "  7   9   1   9   5   8   6   6   4   1   6   7 \n",
      "  0   1   6   8   1   7   8  10   3   5   9   1 \n",
      "  1   3   5   8   9   7   8   8   9   5   7   9 \n",
      " 10   3   6   1   8   6   9   0   0   5   2   2 \n",
      "  1   5   3   8   0   4   1   2   8   6   4   0 \n",
      "  0   8   9   0   1   7  10   3   1   6   8   4 \n",
      "  3   1   5   0   7   2   7   2   6   8   9   3 \n"
     ]
    }
   ],
   "source": [
    "from random import randint\n",
    "m = []\n",
    "for l in range(12):\n",
    "    linha = []\n",
    "    for c in range(12):\n",
    "        linha.append(randint(0, 10))\n",
    "    m.append(linha)\n",
    "\n",
    "for linha in m:\n",
    "    for elemento in linha:\n",
    "        print(f\"{elemento:3d}\", end=\" \")\n",
    "    print()\n",
    "\n"
   ]
  },
  {
   "cell_type": "code",
   "execution_count": 30,
   "metadata": {},
   "outputs": [
    {
     "name": "stdout",
     "output_type": "stream",
     "text": [
      " 2  7  4  3  8 \n",
      " 9  2  6  3  4 \n",
      " 0  1  1  1  1 \n",
      " 5  6  4  0  5 \n",
      " 6  3  5  9  8 \n",
      " 7  2  2  2  0 \n",
      " 9  4 10  5  1 \n",
      " 7  6  7  8 10 \n",
      " 7 10  0  7  1 \n",
      " 0  3  7  5  0 \n",
      "tranposta\n",
      " 2  9  0  5  6  7  9  7  7  0 \n",
      " 7  2  1  6  3  2  4  6 10  3 \n",
      " 4  6  1  4  5  2 10  7  0  7 \n",
      " 3  3  1  0  9  2  5  8  7  5 \n",
      " 8  4  1  5  8  0  1 10  1  0 \n"
     ]
    }
   ],
   "source": [
    "from random import randint\n",
    "m = []\n",
    "for l in range(10):\n",
    "    linha = []\n",
    "    for c in range(5):\n",
    "        linha.append(randint(0, 10))\n",
    "    m.append(linha)\n",
    "\n",
    "for linha in m:\n",
    "    for elemento in linha:\n",
    "        print(f\"{elemento:2d}\", end=\" \")\n",
    "    print()\n",
    "\n",
    "print(\"tranposta\")\n",
    "\n",
    "m2 = []\n",
    "for l in range(5):\n",
    "    linha = []\n",
    "    for c in range(10):\n",
    "        linha.append(m[c][l])\n",
    "    m2.append(linha)\n",
    "\n",
    "for linha in m2:\n",
    "    for elemento in linha:\n",
    "        print(f\"{elemento:2d}\", end=\" \")\n",
    "    print()\n"
   ]
  },
  {
   "cell_type": "code",
   "execution_count": 33,
   "metadata": {},
   "outputs": [
    {
     "ename": "ValueError",
     "evalue": "Unknown format code 'd' for object of type 'str'",
     "output_type": "error",
     "traceback": [
      "\u001b[1;31m---------------------------------------------------------------------------\u001b[0m",
      "\u001b[1;31mValueError\u001b[0m                                Traceback (most recent call last)",
      "\u001b[1;32m~\\AppData\\Local\\Temp\\ipykernel_5932\\2310109933.py\u001b[0m in \u001b[0;36m<module>\u001b[1;34m\u001b[0m\n\u001b[0;32m      9\u001b[0m \u001b[1;32mfor\u001b[0m \u001b[0mlinha\u001b[0m \u001b[1;32min\u001b[0m \u001b[0mm\u001b[0m\u001b[1;33m:\u001b[0m\u001b[1;33m\u001b[0m\u001b[1;33m\u001b[0m\u001b[0m\n\u001b[0;32m     10\u001b[0m     \u001b[1;32mfor\u001b[0m \u001b[0melemento\u001b[0m \u001b[1;32min\u001b[0m \u001b[0mlinha\u001b[0m\u001b[1;33m:\u001b[0m\u001b[1;33m\u001b[0m\u001b[1;33m\u001b[0m\u001b[0m\n\u001b[1;32m---> 11\u001b[1;33m         \u001b[0mprint\u001b[0m\u001b[1;33m(\u001b[0m\u001b[1;34mf\"{elemento:2d}\"\u001b[0m\u001b[1;33m,\u001b[0m \u001b[0mend\u001b[0m\u001b[1;33m=\u001b[0m\u001b[1;34m\" \"\u001b[0m\u001b[1;33m)\u001b[0m\u001b[1;33m\u001b[0m\u001b[1;33m\u001b[0m\u001b[0m\n\u001b[0m\u001b[0;32m     12\u001b[0m     \u001b[0mprint\u001b[0m\u001b[1;33m(\u001b[0m\u001b[1;33m)\u001b[0m\u001b[1;33m\u001b[0m\u001b[1;33m\u001b[0m\u001b[0m\n",
      "\u001b[1;31mValueError\u001b[0m: Unknown format code 'd' for object of type 'str'"
     ]
    }
   ],
   "source": [
    "m = []\n",
    "for l in range(3):\n",
    "    linha = []\n",
    "    for c in range(3):\n",
    "        n = input(\"Digite um numero: \")\n",
    "        linha.append(n)\n",
    "    m.append(linha)\n",
    "\n",
    "\n"
   ]
  },
  {
   "cell_type": "code",
   "execution_count": 22,
   "metadata": {},
   "outputs": [
    {
     "name": "stdout",
     "output_type": "stream",
     "text": [
      "4 1 2 4 5 9 8 1 4 0 7 4 2 8 2 \n",
      "5 4 2 9 7 7 5 5 0 2 8 6 8 10 9 \n",
      "10 2 1 6 7 6 6 8 10 7 0 0 9 5 2 \n",
      "0 7 8 3 2 8 5 8 6 8 0 10 5 4 0 \n",
      "3 9 0 4 10 4 9 1 3 8 4 4 7 6 10 \n",
      "5 1 2 4 7 4 7 4 6 4 1 7 3 2 3 \n",
      "4 0 2 0 3 2 10 5 7 7 1 2 10 6 3 \n",
      "8 3 3 1 10 2 4 0 6 10 8 0 3 0 4 \n",
      "10 2 7 2 2 6 3 9 1 8 6 4 9 1 4 \n",
      "0 8 8 0 4 1 10 5 3 3 6 5 10 2 1 \n"
     ]
    }
   ],
   "source": [
    "from random import randint\n",
    "\n",
    "m = []\n",
    "\n",
    "for num_linha in range(10):\n",
    "    linha = []\n",
    "    for num_coluna in range(15):\n",
    "        linha.append(randint(0, 10))\n",
    "    m.append(linha)\n",
    "\n",
    "for l in range(10):\n",
    "    for c in range(15):\n",
    "        print(m[l][c], end=' ')\n",
    "    print()\n",
    "\n",
    "for linha in range(10):\n",
    "    for coluna in range(15):\n",
    "        print(m[linha][0], end=' ')\n",
    "    print()\n",
    "\n",
    "\n"
   ]
  },
  {
   "cell_type": "code",
   "execution_count": 18,
   "metadata": {},
   "outputs": [],
   "source": [
    "m = []\n",
    "\n",
    "for num_linha in range(10):\n",
    "    linha = []\n",
    "    for num_coluna in range(15):\n",
    "        linha.append(num_linha + num_coluna)\n",
    "    m.append(linha)"
   ]
  },
  {
   "cell_type": "code",
   "execution_count": 13,
   "metadata": {},
   "outputs": [
    {
     "name": "stdout",
     "output_type": "stream",
     "text": [
      "1 2 3 \n",
      "4 5 6 \n",
      "7 8 9 \n"
     ]
    }
   ],
   "source": [
    "a = [[1,2,3],\n",
    "     [4,5,6],\n",
    "     [7,8,9]]\n",
    "\n",
    "for linha in range(len(a)):\n",
    "    for coluna in range(len(a[linha])):\n",
    "        print(a[linha][coluna], end=\" \")\n",
    "    print()"
   ]
  },
  {
   "cell_type": "code",
   "execution_count": 12,
   "metadata": {},
   "outputs": [
    {
     "name": "stdout",
     "output_type": "stream",
     "text": [
      "5\n",
      "50\n"
     ]
    }
   ],
   "source": [
    "a = [[1,2,3],\n",
    "     [4,5,6],\n",
    "     [7,8,9]]\n",
    "\n",
    "print(a[1][1])\n",
    "a[1][1] = 50\n",
    "print(a[1][1])\n",
    "\n"
   ]
  },
  {
   "cell_type": "code",
   "execution_count": 10,
   "metadata": {},
   "outputs": [
    {
     "name": "stdout",
     "output_type": "stream",
     "text": [
      "[[2, 0, 3, 10, 6, 6, 3, 3, 5, 1], [3.4243893374542522, 9.55108709783799, 1.3501849704160274, 6.879540657914088, 9.896338942117167], ['a', 'b', 'c', 'd', 'e', 'f', 'g']]\n"
     ]
    }
   ],
   "source": [
    "from random import randint, random\n",
    "\n",
    "lista1 = [randint(0, 10) for i in range(10)]\n",
    "lista2 = [random() * 10 for i in range(5)]\n",
    "lista3 = [\"a\",\"b\",\"c\",\"d\",\"e\",\"f\",\"g\",]\n",
    "\n",
    "completa = []\n",
    "completa.append(lista1)\n",
    "completa.append(lista2)\n",
    "completa.append(lista3)\n",
    "\n",
    "del lista3\n",
    "del lista2\n",
    "del lista1\n",
    "\n",
    "print(completa)\n"
   ]
  },
  {
   "cell_type": "code",
   "execution_count": 8,
   "metadata": {},
   "outputs": [
    {
     "name": "stdout",
     "output_type": "stream",
     "text": [
      "[3, 4]\n",
      "3\n",
      "4\n",
      "1\n"
     ]
    }
   ],
   "source": [
    "lis = [4,[2,3],[1,[3,4]]]\n",
    "print(lis[2][1])\n",
    "print(lis[2][1][0])\n",
    "print(lis[2][1][1])\n",
    "print(lis[2][0])"
   ]
  },
  {
   "cell_type": "code",
   "execution_count": 3,
   "metadata": {},
   "outputs": [
    {
     "name": "stdout",
     "output_type": "stream",
     "text": [
      "['hello', 1, 2, [3, 'oi']]\n",
      "[3, 'oi']\n",
      "oi\n"
     ]
    }
   ],
   "source": [
    "lista = [\"hello\",1,2,[3,\"oi\"]]\n",
    "print(lista)\n",
    "print(lista[3])\n",
    "print(lista[3][1])"
   ]
  }
 ],
 "metadata": {
  "kernelspec": {
   "display_name": "base",
   "language": "python",
   "name": "python3"
  },
  "language_info": {
   "codemirror_mode": {
    "name": "ipython",
    "version": 3
   },
   "file_extension": ".py",
   "mimetype": "text/x-python",
   "name": "python",
   "nbconvert_exporter": "python",
   "pygments_lexer": "ipython3",
   "version": "3.9.13"
  }
 },
 "nbformat": 4,
 "nbformat_minor": 2
}
