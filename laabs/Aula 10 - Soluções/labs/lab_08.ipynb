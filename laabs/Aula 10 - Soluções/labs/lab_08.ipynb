{
 "cells": [
  {
   "cell_type": "code",
   "execution_count": null,
   "id": "03f53ed7",
   "metadata": {},
   "outputs": [],
   "source": [
    "def analise(lista):\n",
    "    media = sum(lista) / len(lista)\n",
    "    v_max = max(lista)\n",
    "    v_min = min(lista)\n",
    "    \n",
    "    lista_ordenada = sorted(lista)\n",
    "    meio = len(lista_ordenada) // 2\n",
    "\n",
    "    if len(lista_ordenada) % 2 == 0:\n",
    "        mediana = (lista_ordenada[meio - 1] + lista_ordenada[meio]) / 2\n",
    "    else:\n",
    "        mediana = lista_ordenada[meio]\n",
    "        \n",
    "    return media, mediana, v_min, v_max"
   ]
  },
  {
   "cell_type": "code",
   "execution_count": null,
   "id": "212857ff",
   "metadata": {},
   "outputs": [],
   "source": [
    "carros = []\n",
    "consumos = []\n",
    "\n",
    "for i in range(5):\n",
    "    carro = input()\n",
    "    carros.append(carro)\n",
    "for i in range(5):\n",
    "    consumo = int(input())\n",
    "    consumos.append(consumo)\n",
    "\n",
    "eco = consumos.index(max(consumos))\n",
    "print(carros[eco])\n",
    "\n",
    "for i in range(5):\n",
    "    resultado = 1000/consumos[i]\n",
    "    print(f\"{resultado:.0f}\")"
   ]
  },
  {
   "cell_type": "code",
   "execution_count": null,
   "id": "cfb25b2d",
   "metadata": {},
   "outputs": [],
   "source": [
    "def media(lista):\n",
    "    soma=sum(lista)\n",
    "    media = soma / len(lista)\n",
    "    return media"
   ]
  }
 ],
 "metadata": {
  "language_info": {
   "name": "python"
  }
 },
 "nbformat": 4,
 "nbformat_minor": 5
}
