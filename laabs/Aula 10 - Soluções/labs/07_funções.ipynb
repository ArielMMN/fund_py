{
 "cells": [
  {
   "cell_type": "code",
   "execution_count": null,
   "id": "dfd7f948",
   "metadata": {},
   "outputs": [],
   "source": [
    "def multiplo(x, y):\n",
    "    if x % y == 0:\n",
    "        return True\n",
    "    else:\n",
    "        return False"
   ]
  },
  {
   "cell_type": "code",
   "execution_count": null,
   "id": "0079d080",
   "metadata": {},
   "outputs": [],
   "source": [
    "def media (a,b,c, letra):\n",
    "    if letra == 'A':\n",
    "        media = (a+b+c)/3\n",
    "        return media\n",
    "    if letra == 'P':\n",
    "        media = ((5*a)+(3*b)+(2*c))/10\n",
    "        return media"
   ]
  },
  {
   "cell_type": "code",
   "execution_count": null,
   "id": "46193337",
   "metadata": {},
   "outputs": [],
   "source": [
    "def maximo(x,y,imprime=False):\n",
    "    resultado = max(x, y)\n",
    "    if imprime:\n",
    "        print(resultado)\n",
    "    return resultado"
   ]
  },
  {
   "cell_type": "code",
   "execution_count": null,
   "id": "c694cc12",
   "metadata": {},
   "outputs": [],
   "source": [
    "import math\n",
    "\n",
    "lad_1 = float(input(\"Digite o primeiro lado do triângulo: \"))\n",
    "lad_2 = float(input(\"Digite o segundo lado do triângulo: \"))\n",
    "\n",
    "def hip (lad_1,lad_2):\n",
    "    hipotenusa = math.sqrt(lad_1**2+lad_2**2)\n",
    "    return hipotenusa\n",
    "\n",
    "resultado = hip(lad_1,lad_2) \n",
    "print(f\"Hipotenusa: {resultado:.2f}\")"
   ]
  }
 ],
 "metadata": {
  "language_info": {
   "name": "python"
  }
 },
 "nbformat": 4,
 "nbformat_minor": 5
}
