{
 "cells": [
  {
   "cell_type": "code",
   "execution_count": 2,
   "id": "f4c89eb7",
   "metadata": {},
   "outputs": [
    {
     "name": "stdout",
     "output_type": "stream",
     "text": [
      " 3  5 \n",
      " 5  2 \n"
     ]
    }
   ],
   "source": [
    "from random import randint\n",
    "matriz = []\n",
    "\n",
    "for num_linha in range(2):\n",
    "    linha = []\n",
    "    for num_coluna in range(2):\n",
    "        linha.append(randint(0,10))\n",
    "    matriz.append(linha)\n",
    "\n",
    "for num_linha in range(2):\n",
    "    for num_coluna in range(2):\n",
    "        print(f\"{matriz[num_linha][num_coluna]:2d}\", end=' ')\n",
    "    print()\n"
   ]
  },
  {
   "cell_type": "code",
   "execution_count": 2,
   "id": "d0807a8f",
   "metadata": {},
   "outputs": [
    {
     "name": "stdout",
     "output_type": "stream",
     "text": [
      "7\n"
     ]
    }
   ],
   "source": [
    "x = 5\n",
    "\n",
    "def f1():\n",
    "    global x\n",
    "    x = 4\n",
    "\n",
    "def f2(a,b):\n",
    "    global x\n",
    "    return a + b + x\n",
    "\n",
    "f1()\n",
    "total = f2(1,2)\n",
    "print(total)"
   ]
  },
  {
   "cell_type": "code",
   "execution_count": 10,
   "id": "b6fe0e27",
   "metadata": {},
   "outputs": [
    {
     "name": "stdout",
     "output_type": "stream",
     "text": [
      "[[10, 0, 8, 0], [8, 8, 6, 10], [5, 4, 3, 9]]\n",
      "Matriz completa:\n",
      "10  0  8  0 \n",
      " 8  8  6 10 \n",
      " 5  4  3  9 \n"
     ]
    }
   ],
   "source": [
    "from random import randint\n",
    "matriz = []\n",
    "\n",
    "for num_linha in range(3):\n",
    "    linha = []\n",
    "    for num_colunas in range (4):\n",
    "        linha.append(randint(0,10))\n",
    "    matriz.append(linha)\n",
    "\n",
    "print(matriz)\n",
    "\n",
    "print(\"Matriz completa:\")\n",
    "for linha in range(3): # Para cada linha\n",
    "    for coluna in range(4): # Para cada coluna\n",
    "        print(f'{matriz[linha][coluna]:2d}', end=' ') # Exibe o elemento com 2 dígitos\n",
    "    print()\n",
    "\n",
    "\n"
   ]
  },
  {
   "cell_type": "code",
   "execution_count": null,
   "id": "23a592fc",
   "metadata": {},
   "outputs": [],
   "source": [
    "\n",
    "# Criando a matriz\n",
    "M = []\n",
    "for num_linha in range(3): # Para cada linha\n",
    "    linha = [] # inicializa a linha\n",
    "    for num_coluna in range(3): # Para cada coluna\n",
    "        n = int(input(\"Digite um numero: \"))\n",
    "        linha.append(n)\n",
    "    M.append(linha) # adiciona a linha à matriz\n",
    "\n",
    "\n"
   ]
  },
  {
   "cell_type": "code",
   "execution_count": null,
   "id": "d2695859",
   "metadata": {},
   "outputs": [
    {
     "name": "stdout",
     "output_type": "stream",
     "text": [
      "[[5, 9, 10, 7, 6, 6, 3, 1, 10, 1], [7.596432824578074, 2.570634705122954, 0.2614213539417387, 5.706541081795747, 7.394503621188511], ['a', 'b', 'c', 'd', 'e', 'f', 'g']]\n"
     ]
    }
   ],
   "source": [
    "from random import randint, random\n",
    "\n",
    "inteiros = [randint(0, 10) for i in range(10)]\n",
    "reais = [random() * 10 for i in range(5)]\n",
    "strings = [\"a\",\"b\",\"c\",\"d\",\"e\",\"f\",\"g\"]\n",
    "completa = [inteiros,reais,strings]\n",
    "\n",
    "del inteiros\n",
    "del reais\n",
    "del strings\n",
    "\n",
    "print(completa)"
   ]
  }
 ],
 "metadata": {
  "kernelspec": {
   "display_name": "Python 3",
   "language": "python",
   "name": "python3"
  },
  "language_info": {
   "codemirror_mode": {
    "name": "ipython",
    "version": 3
   },
   "file_extension": ".py",
   "mimetype": "text/x-python",
   "name": "python",
   "nbconvert_exporter": "python",
   "pygments_lexer": "ipython3",
   "version": "3.13.3"
  }
 },
 "nbformat": 4,
 "nbformat_minor": 5
}
