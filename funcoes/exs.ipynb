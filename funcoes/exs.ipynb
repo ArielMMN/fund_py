{
 "cells": [
  {
   "cell_type": "code",
   "execution_count": null,
   "metadata": {},
   "outputs": [],
   "source": []
  },
  {
   "cell_type": "code",
   "execution_count": 56,
   "metadata": {},
   "outputs": [],
   "source": [
    "def quociente_resto(dividendo, divisor):\n",
    "    quociente = 0\n",
    "    resto = dividendo\n",
    "\n",
    "    while resto >= divisor:\n",
    "        resto = resto - divisor\n",
    "        quociente = quociente + 1\n",
    "    return quociente, resto\n",
    "\n",
    "dividendo = int(input(\"N1°: \"))\n",
    "divisor = int(input(\"N2°: \"))\n",
    "\n",
    "quociente, resto = quociente_resto(dividendo, divisor)"
   ]
  },
  {
   "cell_type": "code",
   "execution_count": 54,
   "metadata": {},
   "outputs": [
    {
     "name": "stdout",
     "output_type": "stream",
     "text": [
      "3,4,2\n",
      "None\n"
     ]
    }
   ],
   "source": [
    "def max(a,b,c):\n",
    "    if a>b and a>c:\n",
    "        return a\n",
    "    elif b>a and b>c:\n",
    "        return b\n",
    "    if c>a and c>b:\n",
    "        return c\n",
    "    \n",
    "def min(a,b,c):\n",
    "    if a<b and a<c:\n",
    "        return a\n",
    "    elif b<a and b<c:\n",
    "        return b\n",
    "    if c<a and c<b:\n",
    "        return c\n",
    "    \n",
    "def meio(a,b,c):\n",
    "    if a>b and a<c or a>c and a<b:\n",
    "        return a\n",
    "    elif b>a and b<c or b>c and b<a:\n",
    "        return b\n",
    "    elif c>b and c<a or c>a and c<b:\n",
    "        return c\n",
    "\n",
    "def ord(i,a,b,c):\n",
    "    if i == 1:\n",
    "        print(f\"{min(a,b,c)},{meio(a,b,c)},{max(a,b,c)}\")\n",
    "    elif i == 2:\n",
    "        print(f\"{max(a,b,c)},{meio(a,b,c)},{min(a,b,c)}\")\n",
    "    elif i == 3:\n",
    "        print(f\"{meio(a,b,c)},{max(a,b,c)},{min(a,b,c)}\")\n",
    "\n",
    "i = int(input(\"N1°: \"))\n",
    "a = int(input(\"N2°: \"))\n",
    "b = int(input(\"N3°: \"))\n",
    "c = int(input(\"N3°: \"))\n",
    "\n",
    "ord(i,a,b,c)"
   ]
  },
  {
   "cell_type": "code",
   "execution_count": 47,
   "metadata": {},
   "outputs": [],
   "source": [
    "\n",
    "area = lambda b,h: (b*h)/2"
   ]
  },
  {
   "cell_type": "code",
   "execution_count": null,
   "metadata": {},
   "outputs": [],
   "source": [
    "mult = lambda x,y: True if x % y == 0 else False"
   ]
  },
  {
   "cell_type": "code",
   "execution_count": 46,
   "metadata": {},
   "outputs": [
    {
     "name": "stdout",
     "output_type": "stream",
     "text": [
      "15.0\n"
     ]
    }
   ],
   "source": [
    "maior = lambda a,b: a if a > b else b"
   ]
  },
  {
   "cell_type": "code",
   "execution_count": null,
   "metadata": {},
   "outputs": [],
   "source": [
    "def anoM(dia,mes,ano):\n",
    "    if (dia*mes) == ano%100:\n",
    "        return True\n",
    "    else:\n",
    "        return False\n",
    "    \n",
    "for ano in range(1901,2008):\n",
    "    for mes in range(1, 13):\n",
    "        for dia in range(1, 32):\n",
    "            if anoM(dia,mes,ano) == True:\n",
    "                print(f\"{anoM(dia,mes,ano)} - Data mágica: {dia}/{mes}/{ano}\")\n"
   ]
  },
  {
   "cell_type": "code",
   "execution_count": null,
   "metadata": {},
   "outputs": [],
   "source": [
    "def anoM(dia,mes,ano):\n",
    "    if (dia*mes) == ano%100:\n",
    "        return True\n",
    "    else:\n",
    "        return False\n",
    "    \n",
    "dia = int(input(\"dia: \"))\n",
    "mes = int(input(\"mes: \"))\n",
    "ano = int(input(\"ano: \"))\n",
    "print(f\"{anoM(dia,mes,ano)} - Data mágica: {dia}/{mes}/{ano}\")"
   ]
  },
  {
   "cell_type": "code",
   "execution_count": null,
   "metadata": {},
   "outputs": [],
   "source": [
    "def exame(sex,peso):\n",
    "    if sex == \"mulher\" and peso >= 50:\n",
    "        return True\n",
    "    elif sex == \"homem\" and peso >= 60:\n",
    "        return True\n",
    "    else:\n",
    "        return False\n",
    "    \n",
    "\n",
    "sex = str(input(\"sexo: \"))\n",
    "peso = float(input(\"peso: \"))\n",
    "\n",
    "print(exame(sex, peso))"
   ]
  },
  {
   "cell_type": "code",
   "execution_count": null,
   "metadata": {},
   "outputs": [],
   "source": [
    "from math import sqrt \n",
    "\n",
    "a = int(input(\"N1°: \"))\n",
    "b = int(input(\"N2°: \"))\n",
    "c = int(input(\"N3°: \"))\n",
    "\n",
    "\n",
    "def cal(a,b,c):\n",
    "    \"\"\"\n",
    "    calcula com base na formula do exercico 5\n",
    "    \"\"\"\n",
    "    res = sqrt(a) + sqrt(b) + sqrt(c) + (a + b)/2 + (b + c)/2 + (a + c)/2\n",
    "    return res\n",
    "\n",
    "print(f\"resultado:{cal(a,b,c):.2f}\")"
   ]
  },
  {
   "cell_type": "code",
   "execution_count": null,
   "metadata": {},
   "outputs": [],
   "source": [
    "b = int(input(\"N1°: \"))\n",
    "h = int(input(\"N2°: \"))\n",
    "\n",
    "def area(b,h):\n",
    "        return (b * h)/2\n",
    "\n",
    "print(area(b,h))\n",
    "    "
   ]
  },
  {
   "cell_type": "code",
   "execution_count": null,
   "metadata": {},
   "outputs": [],
   "source": [
    "x = int(input(\"N1°: \"))\n",
    "y = int(input(\"N2°: \"))\n",
    "\n",
    "def multiplo(x,y):\n",
    "    if x%y==0:\n",
    "        return True\n",
    "    else:\n",
    "        return False\n",
    "print(multiplo(x,y))\n",
    "    \n",
    "\n"
   ]
  },
  {
   "cell_type": "code",
   "execution_count": null,
   "metadata": {},
   "outputs": [],
   "source": [
    "a = int(input(\"N1°: \"))\n",
    "b = int(input(\"N2°: \"))\n",
    "\n",
    "def maior(a,b):\n",
    "    if a > b:\n",
    "        return a\n",
    "    else:\n",
    "        return b\n",
    "print(f\"maior:{maior(a,b)}\")\n"
   ]
  },
  {
   "cell_type": "code",
   "execution_count": null,
   "metadata": {},
   "outputs": [],
   "source": [
    "x = int(input(\"N1°: \"))\n",
    "y = int(input(\"N2°: \"))\n",
    "\n",
    "\n",
    "def media(x, y):\n",
    "    res = (x + y) /2\n",
    "    return res\n",
    "\n",
    "print(f\"media:{media(x,y)}\")\n",
    "\n"
   ]
  },
  {
   "cell_type": "code",
   "execution_count": null,
   "metadata": {},
   "outputs": [],
   "source": [
    "def media(x, y):\n",
    "    res = (x + y) /2\n",
    "    return res\n",
    "\n",
    "media(5,5)"
   ]
  },
  {
   "cell_type": "code",
   "execution_count": null,
   "metadata": {},
   "outputs": [],
   "source": [
    "def media(x, y):\n",
    "    res = (x + y) /2\n",
    "    print(res)\n",
    "\n",
    "media(5,5)"
   ]
  },
  {
   "cell_type": "code",
   "execution_count": null,
   "metadata": {},
   "outputs": [],
   "source": [
    "def soma(x, y):\n",
    "    res = x + y\n",
    "    return res\n",
    "\n",
    "x = int(input(\"N1°: \"))\n",
    "y = int(input(\"N2°: \"))\n",
    "\n",
    "\n",
    "print(soma(x,y))\n"
   ]
  }
 ],
 "metadata": {
  "kernelspec": {
   "display_name": "Python 3",
   "language": "python",
   "name": "python3"
  },
  "language_info": {
   "codemirror_mode": {
    "name": "ipython",
    "version": 3
   },
   "file_extension": ".py",
   "mimetype": "text/x-python",
   "name": "python",
   "nbconvert_exporter": "python",
   "pygments_lexer": "ipython3",
   "version": "3.9.13"
  }
 },
 "nbformat": 4,
 "nbformat_minor": 2
}
