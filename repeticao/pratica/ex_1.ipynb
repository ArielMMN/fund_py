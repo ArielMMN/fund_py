{
 "cells": [
  {
   "cell_type": "code",
   "execution_count": 2,
   "metadata": {},
   "outputs": [
    {
     "name": "stdout",
     "output_type": "stream",
     "text": [
      "Soma:56 \n",
      "11\n"
     ]
    }
   ],
   "source": [
    "soma = 0\n",
    "qtd = 0\n",
    "\n",
    "while True:\n",
    "    entrada = int(input(\"Digite um numero a somar ou 0 pra sair: \"))\n",
    "    soma = soma + entrada\n",
    "    qtd = qtd + 1\n",
    "    if qtd > 10:\n",
    "        break\n",
    "    \n",
    "print(f\"Soma:{soma} \")\n",
    "print(qtd)"
   ]
  }
 ],
 "metadata": {
  "kernelspec": {
   "display_name": "base",
   "language": "python",
   "name": "python3"
  },
  "language_info": {
   "codemirror_mode": {
    "name": "ipython",
    "version": 3
   },
   "file_extension": ".py",
   "mimetype": "text/x-python",
   "name": "python",
   "nbconvert_exporter": "python",
   "pygments_lexer": "ipython3",
   "version": "3.9.13"
  }
 },
 "nbformat": 4,
 "nbformat_minor": 2
}
