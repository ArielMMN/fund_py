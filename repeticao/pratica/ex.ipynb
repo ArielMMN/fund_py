{
 "cells": [
  {
   "cell_type": "code",
   "execution_count": null,
   "metadata": {},
   "outputs": [],
   "source": [
    "ultimo = int(input(\"Digite o ltimo digito da contagem: \\n\"))\n",
    "x = 0\n",
    "while x <= ultimo:\n",
    "    if x % 2 != 0:\n",
    "        print(x)\n",
    "    x = x+1"
   ]
  },
  {
   "cell_type": "code",
   "execution_count": null,
   "metadata": {},
   "outputs": [],
   "source": [
    "x = 0\n",
    "while x <=50:\n",
    "    x = x+1\n",
    "    print(x)\n",
    "x = 52\n",
    "while x <=100:\n",
    "    x = x+2\n",
    "    print(x)\n",
    "\n"
   ]
  },
  {
   "cell_type": "code",
   "execution_count": null,
   "metadata": {},
   "outputs": [],
   "source": [
    "num = int(input(\"Digite um numero: \"))\n",
    "mut = 0\n",
    "\n",
    "while mut <=10:\n",
    "    result = num*mut\n",
    "    print(f\"{num} x {mut} = {result}\")\n",
    "    mut = mut + 1"
   ]
  },
  {
   "cell_type": "code",
   "execution_count": null,
   "metadata": {},
   "outputs": [],
   "source": [
    "\n",
    "maior = 0\n",
    "x = 0\n",
    "\n",
    "while x < 6:\n",
    "    num = int(input(\"Digite um numero: \"))\n",
    "    if num > maior:\n",
    "        maior = num\n",
    "    x = x + 1\n",
    "print(maior)\n"
   ]
  },
  {
   "cell_type": "code",
   "execution_count": null,
   "metadata": {},
   "outputs": [],
   "source": [
    "\n",
    "while True:\n",
    "    num = int(input(\"Digite um numero: \"))\n",
    "    if num <= 10:\n",
    "        print(\"numero aceito\")\n",
    "        break\n",
    "    else:\n",
    "        print(\"valor errado\")"
   ]
  },
  {
   "cell_type": "code",
   "execution_count": null,
   "metadata": {},
   "outputs": [],
   "source": [
    "soma = 0\n",
    "qtd = 0\n",
    "\n",
    "while True:\n",
    "    entrada = int(input(\"Digite um numero a somar ou 0 pra sair: \"))\n",
    "    if entrada == 0:\n",
    "        break\n",
    "    soma = soma + entrada\n",
    "    qtd = qtd + 1\n",
    "\n",
    "print(f\"Soma:{soma} \")\n",
    "print(qtd)\n",
    "print(soma/qtd)"
   ]
  },
  {
   "cell_type": "code",
   "execution_count": 3,
   "metadata": {},
   "outputs": [
    {
     "name": "stdout",
     "output_type": "stream",
     "text": [
      "Soma:46 \n",
      "10\n"
     ]
    }
   ],
   "source": [
    "soma = 0\n",
    "qtd = 0\n",
    "\n",
    "while True:\n",
    "    entrada = int(input(\"Digite um numero: \"))\n",
    "    soma = soma + entrada\n",
    "    qtd = qtd + 1\n",
    "    if qtd > 9:\n",
    "        break\n",
    "    \n",
    "print(f\"Soma:{soma} \")\n",
    "print(qtd)\n"
   ]
  },
  {
   "cell_type": "code",
   "execution_count": null,
   "metadata": {},
   "outputs": [],
   "source": [
    "qtd = 0\n",
    "\n",
    "while True:\n",
    "    num = int(input(\"Digite um numero: \"))\n",
    "    if num > 10:\n",
    "        print(\"valor errado\")\n",
    "        break\n",
    "    \n",
    "\n",
    "\n",
    "\n",
    "soma = 0\n",
    "qtd = 0\n",
    "\n",
    "while True:\n",
    "    entrada = int(input(\"Digite um numero: \"))\n",
    "    soma = soma + entrada\n",
    "    qtd = qtd + 1\n",
    "    if qtd > 9:\n",
    "        break\n",
    "    \n",
    "print(f\"Soma:{soma} \")\n",
    "print(qtd)"
   ]
  }
 ],
 "metadata": {
  "kernelspec": {
   "display_name": "base",
   "language": "python",
   "name": "python3"
  },
  "language_info": {
   "codemirror_mode": {
    "name": "ipython",
    "version": 3
   },
   "file_extension": ".py",
   "mimetype": "text/x-python",
   "name": "python",
   "nbconvert_exporter": "python",
   "pygments_lexer": "ipython3",
   "version": "3.9.13"
  }
 },
 "nbformat": 4,
 "nbformat_minor": 2
}
