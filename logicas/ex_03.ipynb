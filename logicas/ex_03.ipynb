{
 "cells": [
  {
   "cell_type": "code",
   "execution_count": 5,
   "metadata": {},
   "outputs": [
    {
     "name": "stdout",
     "output_type": "stream",
     "text": [
      "Peso ideal: 87.4\n"
     ]
    }
   ],
   "source": [
    "h = float(input(\"Altura: \"))\n",
    "sexo = str(input(\"Qual seu sexo?(masculino ou feminino): \"))\n",
    "\n",
    "if sexo == \"masculino\":\n",
    "    pesoIdeal = (72.7 * h) - 58\n",
    "    print(f\"Peso ideal: {pesoIdeal}\")\n",
    "elif sexo == \"feminino\":\n",
    "    pesoIdeal = (62.1 * h) - 44.7\n",
    "    print(f\"Peso ideal: {pesoIdeal: .1f}Kg\")"
   ]
  }
 ],
 "metadata": {
  "kernelspec": {
   "display_name": "base",
   "language": "python",
   "name": "python3"
  },
  "language_info": {
   "codemirror_mode": {
    "name": "ipython",
    "version": 3
   },
   "file_extension": ".py",
   "mimetype": "text/x-python",
   "name": "python",
   "nbconvert_exporter": "python",
   "pygments_lexer": "ipython3",
   "version": "3.9.13"
  }
 },
 "nbformat": 4,
 "nbformat_minor": 2
}
