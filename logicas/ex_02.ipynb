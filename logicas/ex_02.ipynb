{
 "cells": [
  {
   "cell_type": "code",
   "execution_count": 3,
   "metadata": {},
   "outputs": [
    {
     "name": "stdout",
     "output_type": "stream",
     "text": [
      "11>10>9\n"
     ]
    }
   ],
   "source": [
    "a = int(input(\"1° Valor: \"))\n",
    "b = int(input(\"2° Valor: \"))\n",
    "c = int(input(\"3° Valor: \"))\n",
    "\n",
    "if a > b and a > c:\n",
    "    print(f\"{a} é o maior\")\n",
    "    if b > c:\n",
    "        print(f\"{a}>{b}>{c}\")\n",
    "    else:\n",
    "        print(f\"{a}>{c}>{b}\")\n",
    "elif b > a and b > c:\n",
    "    print(f\"{b} é o maior\")\n",
    "    if a > c:\n",
    "        print(f\"{b}>{a}>{c}\")\n",
    "    else:\n",
    "        print(f\"{b}>{c}>{a}\")\n",
    "elif c > a and c > b:\n",
    "    print(f\"{c} é o maior\")\n",
    "    if a > b:\n",
    "        print(f\"{c}>{a}>{b}\")\n",
    "    else:\n",
    "        print(f\"{c}>{b}>{a}\")"
   ]
  }
 ],
 "metadata": {
  "kernelspec": {
   "display_name": "base",
   "language": "python",
   "name": "python3"
  },
  "language_info": {
   "codemirror_mode": {
    "name": "ipython",
    "version": 3
   },
   "file_extension": ".py",
   "mimetype": "text/x-python",
   "name": "python",
   "nbconvert_exporter": "python",
   "pygments_lexer": "ipython3",
   "version": "3.9.13"
  }
 },
 "nbformat": 4,
 "nbformat_minor": 2
}
