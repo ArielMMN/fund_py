{
 "cells": [
  {
   "cell_type": "code",
   "execution_count": 1,
   "metadata": {},
   "outputs": [
    {
     "name": "stdout",
     "output_type": "stream",
     "text": [
      "Triângulo equilatero\n"
     ]
    }
   ],
   "source": [
    "a = int (input (\"Lado a: \") )\n",
    "b = int (input (\"Lado b: \" ) )\n",
    "c = int (input (\"Lado c: \") )\n",
    "if a < b + c and b < a + c and c < a + b:\n",
    "    if (a == b) and ( b == c):\n",
    "        print (\"Triângulo equilatero\")\n",
    "    elif a == b or a == c or b == c:\n",
    "        print (\"Triângulo isosceles\")\n",
    "    elif a != b and a != c and b != c:\n",
    "        print (\"Tri ngulo escaleno\")\n",
    "else:\n",
    "    print(\"No triangulo\")"
   ]
  },
  {
   "cell_type": "code",
   "execution_count": 2,
   "metadata": {},
   "outputs": [
    {
     "name": "stdout",
     "output_type": "stream",
     "text": [
      "Hello world!!!\n"
     ]
    }
   ],
   "source": [
    "print(\"Hello world!!!\")"
   ]
  },
  {
   "cell_type": "code",
   "execution_count": 3,
   "metadata": {},
   "outputs": [
    {
     "name": "stdout",
     "output_type": "stream",
     "text": [
      "2 2 2\n"
     ]
    }
   ],
   "source": [
    "print(a, b, c)"
   ]
  }
 ],
 "metadata": {
  "kernelspec": {
   "display_name": "base",
   "language": "python",
   "name": "python3"
  },
  "language_info": {
   "codemirror_mode": {
    "name": "ipython",
    "version": 3
   },
   "file_extension": ".py",
   "mimetype": "text/x-python",
   "name": "python",
   "nbconvert_exporter": "python",
   "pygments_lexer": "ipython3",
   "version": "3.9.13"
  }
 },
 "nbformat": 4,
 "nbformat_minor": 2
}
