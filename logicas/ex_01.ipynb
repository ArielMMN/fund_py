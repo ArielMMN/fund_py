{
 "cells": [
  {
   "cell_type": "code",
   "execution_count": 5,
   "metadata": {},
   "outputs": [
    {
     "name": "stdout",
     "output_type": "stream",
     "text": [
      "importado\n"
     ]
    }
   ],
   "source": [
    "preco = float(input(\"Qual o preço?: \"))\n",
    "codigo = int(input(\"Qual o código?: \"))\n",
    "\n",
    "if codigo == 1:\n",
    "    print(f\"Sul, Preço: {preco}\")\n",
    "elif codigo == 2:\n",
    "    print(f\"Norte, Preço: {preco}\")\n",
    "elif codigo == 3:\n",
    "    print(f\"Leste, Preço: {preco}\")\n",
    "elif codigo == 4:\n",
    "    print(f\"Oeste, Preço: {preco}\")\n",
    "elif codigo == 5 and codigo == 6:\n",
    "    print(f\"Nordeste, Preço: {preco}\")\n",
    "elif codigo >= 7 and codigo <= 9:\n",
    "    print(f\"Sudeste, Preço: {preco}\")\n",
    "elif codigo >= 10 and codigo <= 20:\n",
    "    print(f\"Centro-Oeste, Preço: {preco}\")\n",
    "elif codigo >= 25 and codigo <= 30:\n",
    "    print(f\"Nordeste, Preço: {preco}\")\n",
    "else:\n",
    "    print(\"importado\")"
   ]
  }
 ],
 "metadata": {
  "kernelspec": {
   "display_name": "base",
   "language": "python",
   "name": "python3"
  },
  "language_info": {
   "codemirror_mode": {
    "name": "ipython",
    "version": 3
   },
   "file_extension": ".py",
   "mimetype": "text/x-python",
   "name": "python",
   "nbconvert_exporter": "python",
   "pygments_lexer": "ipython3",
   "version": "3.9.13"
  }
 },
 "nbformat": 4,
 "nbformat_minor": 2
}
