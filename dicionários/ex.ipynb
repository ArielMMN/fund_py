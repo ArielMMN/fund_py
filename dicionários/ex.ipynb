{
 "cells": [
  {
   "cell_type": "code",
   "execution_count": 50,
   "metadata": {},
   "outputs": [
    {
     "name": "stdout",
     "output_type": "stream",
     "text": [
      "{10: 80, 8: 145, 9: 106, 6: 153, 2: 28, 7: 153, 4: 81, 5: 118, 11: 55, 3: 53, 12: 28}\n",
      "2 : 2.80%\n",
      "3 : 5.30%\n",
      "4 : 8.10%\n",
      "5 : 11.80%\n",
      "6 : 15.30%\n",
      "7 : 15.30%\n",
      "8 : 14.50%\n",
      "9 : 10.60%\n",
      "10 : 8.00%\n",
      "11 : 5.50%\n",
      "12 : 2.80%\n"
     ]
    }
   ],
   "source": [
    "from random import randint\n",
    "\n",
    "d = {}\n",
    "\n",
    "def soma_2_dados():\n",
    "    n1 = randint(1,6)\n",
    "    n2 = randint(1,6)\n",
    "    soma = n1 + n2\n",
    "    return soma\n",
    "\n",
    "for i in range(1000):\n",
    "    else:if\n",
    "    soma = soma_2_dados()\n",
    "    if soma not in d:\n",
    "        d[soma] = 1\n",
    "        d[soma] += 1\n",
    "\n",
    "print(d)\n",
    "\n",
    "for chave, valor in sorted(d.items()):\n",
    "    print(f\"{chave} : {valor*100/1000:.2f}%\")"
   ]
  },
  {
   "cell_type": "code",
   "execution_count": 40,
   "metadata": {},
   "outputs": [
    {
     "name": "stdout",
     "output_type": "stream",
     "text": [
      "2 6\n",
      "6 8\n",
      "3 3\n",
      "13 4\n",
      "1 7\n",
      "15 7\n",
      "0 6\n",
      "17 4\n",
      "16 3\n",
      "12 2\n",
      "18 6\n",
      "14 4\n",
      "9 4\n",
      "19 6\n",
      "11 4\n",
      "10 6\n",
      "7 8\n",
      "4 4\n",
      "5 4\n",
      "20 3\n",
      "8 1\n"
     ]
    }
   ],
   "source": [
    "from random import randint\n",
    "\n",
    "d = {}\n",
    "\n",
    "\n",
    "for i in range(100):\n",
    "    n = randint(0, 20)\n",
    "    if n not in d:\n",
    "        d[n] = 1\n",
    "    else:\n",
    "        d[n] += 1\n",
    "\n",
    "for n in d:\n",
    "    print(n,d[n])"
   ]
  },
  {
   "cell_type": "code",
   "execution_count": 28,
   "metadata": {},
   "outputs": [
    {
     "data": {
      "text/plain": [
       "3"
      ]
     },
     "execution_count": 28,
     "metadata": {},
     "output_type": "execute_result"
    }
   ],
   "source": [
    "d = {1:'one', 2:'two', 3:'three'}\n",
    "\n",
    "def procuraChave(d, valor):\n",
    "    lista_chaves = []\n",
    "    for chave,val in d.items():\n",
    "        if val == valor:\n",
    "            lista_chaves.append(chave)\n",
    "    return chave\n",
    "\n",
    "procuraChave(d,'one')"
   ]
  },
  {
   "cell_type": "code",
   "execution_count": 20,
   "metadata": {},
   "outputs": [
    {
     "name": "stdout",
     "output_type": "stream",
     "text": [
      "['luiza', 'ana']\n",
      "['luiza', 'ana', 'nick', 'angela']\n",
      "['luiza', 'ana', 'nick']\n"
     ]
    }
   ],
   "source": [
    "esposas = { 'arthur': 'luiza', 'maykon': 'ana'}\n",
    "\n",
    "e = list(esposas.values())\n",
    "print(e)\n",
    "\n",
    "esposas['ariel'] = 'nick'\n",
    "esposas['luan'] = 'angela'\n",
    "\n",
    "e = list(esposas.values())\n",
    "print(e)\n",
    "\n",
    "del esposas['luan']\n",
    "e = list(esposas.values())\n",
    "print(e)"
   ]
  },
  {
   "cell_type": "markdown",
   "metadata": {},
   "source": []
  }
 ],
 "metadata": {
  "kernelspec": {
   "display_name": "base",
   "language": "python",
   "name": "python3"
  },
  "language_info": {
   "codemirror_mode": {
    "name": "ipython",
    "version": 3
   },
   "file_extension": ".py",
   "mimetype": "text/x-python",
   "name": "python",
   "nbconvert_exporter": "python",
   "pygments_lexer": "ipython3",
   "version": "3.9.13"
  }
 },
 "nbformat": 4,
 "nbformat_minor": 2
}
